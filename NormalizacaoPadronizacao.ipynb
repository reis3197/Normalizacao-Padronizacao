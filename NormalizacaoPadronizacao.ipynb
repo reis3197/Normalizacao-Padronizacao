{
 "cells": [
  {
   "cell_type": "markdown",
   "id": "40df0890",
   "metadata": {},
   "source": [
    "### Padronização ou Normalização"
   ]
  },
  {
   "cell_type": "code",
   "execution_count": 1,
   "id": "36310b79",
   "metadata": {},
   "outputs": [],
   "source": [
    "import pandas as pd\n",
    "from matplotlib import pyplot as plt\n",
    "import seaborn as sns\n",
    "\n",
    "# Biblioteca para fazer a PADRONIZAÇÃO\n",
    "from sklearn.preprocessing import StandardScaler\n",
    "\n",
    "# Biblioteca para fazer a NORMALIZAÇÃO\n",
    "from sklearn.preprocessing import MinMaxScaler\n",
    "\n",
    "# Bilioteca para separação de dados em treino e teste\n",
    "from sklearn.model_selection import train_test_split\n",
    "\n",
    "# Biblioteca para calcular a acuracia do modelo\n",
    "from sklearn.metrics import accuracy_score\n",
    "\n",
    "# Algoritmo KNN\n",
    "from sklearn.neighbors import KNeighborsClassifier\n",
    "\n",
    "# Algoritmo SVM\n",
    "from sklearn import svm"
   ]
  },
  {
   "cell_type": "code",
   "execution_count": 2,
   "id": "d651a7b4",
   "metadata": {},
   "outputs": [],
   "source": [
    "# Carregando o arquivo\n",
    "df_original = pd.read_csv(\"https://archive.ics.uci.edu/ml/machine-learning-databases/wine/wine.data\", sep = \",\")"
   ]
  },
  {
   "cell_type": "code",
   "execution_count": 3,
   "id": "fa82b31c",
   "metadata": {},
   "outputs": [
    {
     "data": {
      "text/html": [
       "<div>\n",
       "<style scoped>\n",
       "    .dataframe tbody tr th:only-of-type {\n",
       "        vertical-align: middle;\n",
       "    }\n",
       "\n",
       "    .dataframe tbody tr th {\n",
       "        vertical-align: top;\n",
       "    }\n",
       "\n",
       "    .dataframe thead th {\n",
       "        text-align: right;\n",
       "    }\n",
       "</style>\n",
       "<table border=\"1\" class=\"dataframe\">\n",
       "  <thead>\n",
       "    <tr style=\"text-align: right;\">\n",
       "      <th></th>\n",
       "      <th>CLASS</th>\n",
       "      <th>ALCOHOL</th>\n",
       "      <th>MALICACID</th>\n",
       "      <th>ASH</th>\n",
       "      <th>ASHALCALINITY</th>\n",
       "      <th>MAGNESIUM</th>\n",
       "      <th>TOTALPHENOLS</th>\n",
       "      <th>FLAVONOIDS</th>\n",
       "      <th>NONFLAVONOIDSPHENOLS</th>\n",
       "      <th>PRONTHOCYANINS</th>\n",
       "      <th>COLORINTENSITY</th>\n",
       "      <th>HUE</th>\n",
       "      <th>OD280_OD315</th>\n",
       "      <th>PROLINE</th>\n",
       "    </tr>\n",
       "  </thead>\n",
       "  <tbody>\n",
       "    <tr>\n",
       "      <th>0</th>\n",
       "      <td>1</td>\n",
       "      <td>13.20</td>\n",
       "      <td>1.78</td>\n",
       "      <td>2.14</td>\n",
       "      <td>11.2</td>\n",
       "      <td>100</td>\n",
       "      <td>2.65</td>\n",
       "      <td>2.76</td>\n",
       "      <td>0.26</td>\n",
       "      <td>1.28</td>\n",
       "      <td>4.38</td>\n",
       "      <td>1.05</td>\n",
       "      <td>3.40</td>\n",
       "      <td>1050</td>\n",
       "    </tr>\n",
       "    <tr>\n",
       "      <th>1</th>\n",
       "      <td>1</td>\n",
       "      <td>13.16</td>\n",
       "      <td>2.36</td>\n",
       "      <td>2.67</td>\n",
       "      <td>18.6</td>\n",
       "      <td>101</td>\n",
       "      <td>2.80</td>\n",
       "      <td>3.24</td>\n",
       "      <td>0.30</td>\n",
       "      <td>2.81</td>\n",
       "      <td>5.68</td>\n",
       "      <td>1.03</td>\n",
       "      <td>3.17</td>\n",
       "      <td>1185</td>\n",
       "    </tr>\n",
       "    <tr>\n",
       "      <th>2</th>\n",
       "      <td>1</td>\n",
       "      <td>14.37</td>\n",
       "      <td>1.95</td>\n",
       "      <td>2.50</td>\n",
       "      <td>16.8</td>\n",
       "      <td>113</td>\n",
       "      <td>3.85</td>\n",
       "      <td>3.49</td>\n",
       "      <td>0.24</td>\n",
       "      <td>2.18</td>\n",
       "      <td>7.80</td>\n",
       "      <td>0.86</td>\n",
       "      <td>3.45</td>\n",
       "      <td>1480</td>\n",
       "    </tr>\n",
       "    <tr>\n",
       "      <th>3</th>\n",
       "      <td>1</td>\n",
       "      <td>13.24</td>\n",
       "      <td>2.59</td>\n",
       "      <td>2.87</td>\n",
       "      <td>21.0</td>\n",
       "      <td>118</td>\n",
       "      <td>2.80</td>\n",
       "      <td>2.69</td>\n",
       "      <td>0.39</td>\n",
       "      <td>1.82</td>\n",
       "      <td>4.32</td>\n",
       "      <td>1.04</td>\n",
       "      <td>2.93</td>\n",
       "      <td>735</td>\n",
       "    </tr>\n",
       "    <tr>\n",
       "      <th>4</th>\n",
       "      <td>1</td>\n",
       "      <td>14.20</td>\n",
       "      <td>1.76</td>\n",
       "      <td>2.45</td>\n",
       "      <td>15.2</td>\n",
       "      <td>112</td>\n",
       "      <td>3.27</td>\n",
       "      <td>3.39</td>\n",
       "      <td>0.34</td>\n",
       "      <td>1.97</td>\n",
       "      <td>6.75</td>\n",
       "      <td>1.05</td>\n",
       "      <td>2.85</td>\n",
       "      <td>1450</td>\n",
       "    </tr>\n",
       "  </tbody>\n",
       "</table>\n",
       "</div>"
      ],
      "text/plain": [
       "   CLASS  ALCOHOL  MALICACID   ASH  ASHALCALINITY  MAGNESIUM  TOTALPHENOLS  \\\n",
       "0      1    13.20       1.78  2.14           11.2        100          2.65   \n",
       "1      1    13.16       2.36  2.67           18.6        101          2.80   \n",
       "2      1    14.37       1.95  2.50           16.8        113          3.85   \n",
       "3      1    13.24       2.59  2.87           21.0        118          2.80   \n",
       "4      1    14.20       1.76  2.45           15.2        112          3.27   \n",
       "\n",
       "   FLAVONOIDS  NONFLAVONOIDSPHENOLS  PRONTHOCYANINS  COLORINTENSITY   HUE  \\\n",
       "0        2.76                  0.26            1.28            4.38  1.05   \n",
       "1        3.24                  0.30            2.81            5.68  1.03   \n",
       "2        3.49                  0.24            2.18            7.80  0.86   \n",
       "3        2.69                  0.39            1.82            4.32  1.04   \n",
       "4        3.39                  0.34            1.97            6.75  1.05   \n",
       "\n",
       "   OD280_OD315  PROLINE  \n",
       "0         3.40     1050  \n",
       "1         3.17     1185  \n",
       "2         3.45     1480  \n",
       "3         2.93      735  \n",
       "4         2.85     1450  "
      ]
     },
     "execution_count": 3,
     "metadata": {},
     "output_type": "execute_result"
    }
   ],
   "source": [
    "# Nomeando as colunas\n",
    "df_original.columns = ['CLASS','ALCOHOL','MALICACID','ASH','ASHALCALINITY','MAGNESIUM','TOTALPHENOLS','FLAVONOIDS',\n",
    "                      'NONFLAVONOIDSPHENOLS','PRONTHOCYANINS','COLORINTENSITY','HUE','OD280_OD315','PROLINE']\n",
    "\n",
    "# Visualizando as primeiras linhas do DataFrame\n",
    "df_original.head()"
   ]
  },
  {
   "cell_type": "code",
   "execution_count": 4,
   "id": "3ea92301",
   "metadata": {},
   "outputs": [
    {
     "data": {
      "text/html": [
       "<div>\n",
       "<style scoped>\n",
       "    .dataframe tbody tr th:only-of-type {\n",
       "        vertical-align: middle;\n",
       "    }\n",
       "\n",
       "    .dataframe tbody tr th {\n",
       "        vertical-align: top;\n",
       "    }\n",
       "\n",
       "    .dataframe thead th {\n",
       "        text-align: right;\n",
       "    }\n",
       "</style>\n",
       "<table border=\"1\" class=\"dataframe\">\n",
       "  <thead>\n",
       "    <tr style=\"text-align: right;\">\n",
       "      <th></th>\n",
       "      <th>CLASS</th>\n",
       "      <th>ALCOHOL</th>\n",
       "      <th>MALICACID</th>\n",
       "      <th>ASH</th>\n",
       "      <th>ASHALCALINITY</th>\n",
       "      <th>MAGNESIUM</th>\n",
       "      <th>TOTALPHENOLS</th>\n",
       "      <th>FLAVONOIDS</th>\n",
       "      <th>NONFLAVONOIDSPHENOLS</th>\n",
       "      <th>PRONTHOCYANINS</th>\n",
       "      <th>COLORINTENSITY</th>\n",
       "      <th>HUE</th>\n",
       "      <th>OD280_OD315</th>\n",
       "      <th>PROLINE</th>\n",
       "    </tr>\n",
       "  </thead>\n",
       "  <tbody>\n",
       "    <tr>\n",
       "      <th>count</th>\n",
       "      <td>177.000000</td>\n",
       "      <td>177.000000</td>\n",
       "      <td>177.000000</td>\n",
       "      <td>177.000000</td>\n",
       "      <td>177.000000</td>\n",
       "      <td>177.000000</td>\n",
       "      <td>177.000000</td>\n",
       "      <td>177.000000</td>\n",
       "      <td>177.000000</td>\n",
       "      <td>177.000000</td>\n",
       "      <td>177.000000</td>\n",
       "      <td>177.000000</td>\n",
       "      <td>177.000000</td>\n",
       "      <td>177.000000</td>\n",
       "    </tr>\n",
       "    <tr>\n",
       "      <th>mean</th>\n",
       "      <td>1.943503</td>\n",
       "      <td>12.993672</td>\n",
       "      <td>2.339887</td>\n",
       "      <td>2.366158</td>\n",
       "      <td>19.516949</td>\n",
       "      <td>99.587571</td>\n",
       "      <td>2.292260</td>\n",
       "      <td>2.023446</td>\n",
       "      <td>0.362316</td>\n",
       "      <td>1.586949</td>\n",
       "      <td>5.054802</td>\n",
       "      <td>0.956983</td>\n",
       "      <td>2.604294</td>\n",
       "      <td>745.096045</td>\n",
       "    </tr>\n",
       "    <tr>\n",
       "      <th>std</th>\n",
       "      <td>0.773991</td>\n",
       "      <td>0.808808</td>\n",
       "      <td>1.119314</td>\n",
       "      <td>0.275080</td>\n",
       "      <td>3.336071</td>\n",
       "      <td>14.174018</td>\n",
       "      <td>0.626465</td>\n",
       "      <td>0.998658</td>\n",
       "      <td>0.124653</td>\n",
       "      <td>0.571545</td>\n",
       "      <td>2.324446</td>\n",
       "      <td>0.229135</td>\n",
       "      <td>0.705103</td>\n",
       "      <td>314.884046</td>\n",
       "    </tr>\n",
       "    <tr>\n",
       "      <th>min</th>\n",
       "      <td>1.000000</td>\n",
       "      <td>11.030000</td>\n",
       "      <td>0.740000</td>\n",
       "      <td>1.360000</td>\n",
       "      <td>10.600000</td>\n",
       "      <td>70.000000</td>\n",
       "      <td>0.980000</td>\n",
       "      <td>0.340000</td>\n",
       "      <td>0.130000</td>\n",
       "      <td>0.410000</td>\n",
       "      <td>1.280000</td>\n",
       "      <td>0.480000</td>\n",
       "      <td>1.270000</td>\n",
       "      <td>278.000000</td>\n",
       "    </tr>\n",
       "    <tr>\n",
       "      <th>25%</th>\n",
       "      <td>1.000000</td>\n",
       "      <td>12.360000</td>\n",
       "      <td>1.600000</td>\n",
       "      <td>2.210000</td>\n",
       "      <td>17.200000</td>\n",
       "      <td>88.000000</td>\n",
       "      <td>1.740000</td>\n",
       "      <td>1.200000</td>\n",
       "      <td>0.270000</td>\n",
       "      <td>1.250000</td>\n",
       "      <td>3.210000</td>\n",
       "      <td>0.780000</td>\n",
       "      <td>1.930000</td>\n",
       "      <td>500.000000</td>\n",
       "    </tr>\n",
       "    <tr>\n",
       "      <th>50%</th>\n",
       "      <td>2.000000</td>\n",
       "      <td>13.050000</td>\n",
       "      <td>1.870000</td>\n",
       "      <td>2.360000</td>\n",
       "      <td>19.500000</td>\n",
       "      <td>98.000000</td>\n",
       "      <td>2.350000</td>\n",
       "      <td>2.130000</td>\n",
       "      <td>0.340000</td>\n",
       "      <td>1.550000</td>\n",
       "      <td>4.680000</td>\n",
       "      <td>0.960000</td>\n",
       "      <td>2.780000</td>\n",
       "      <td>672.000000</td>\n",
       "    </tr>\n",
       "    <tr>\n",
       "      <th>75%</th>\n",
       "      <td>3.000000</td>\n",
       "      <td>13.670000</td>\n",
       "      <td>3.100000</td>\n",
       "      <td>2.560000</td>\n",
       "      <td>21.500000</td>\n",
       "      <td>107.000000</td>\n",
       "      <td>2.800000</td>\n",
       "      <td>2.860000</td>\n",
       "      <td>0.440000</td>\n",
       "      <td>1.950000</td>\n",
       "      <td>6.200000</td>\n",
       "      <td>1.120000</td>\n",
       "      <td>3.170000</td>\n",
       "      <td>985.000000</td>\n",
       "    </tr>\n",
       "    <tr>\n",
       "      <th>max</th>\n",
       "      <td>3.000000</td>\n",
       "      <td>14.830000</td>\n",
       "      <td>5.800000</td>\n",
       "      <td>3.230000</td>\n",
       "      <td>30.000000</td>\n",
       "      <td>162.000000</td>\n",
       "      <td>3.880000</td>\n",
       "      <td>5.080000</td>\n",
       "      <td>0.660000</td>\n",
       "      <td>3.580000</td>\n",
       "      <td>13.000000</td>\n",
       "      <td>1.710000</td>\n",
       "      <td>4.000000</td>\n",
       "      <td>1680.000000</td>\n",
       "    </tr>\n",
       "  </tbody>\n",
       "</table>\n",
       "</div>"
      ],
      "text/plain": [
       "            CLASS     ALCOHOL   MALICACID         ASH  ASHALCALINITY  \\\n",
       "count  177.000000  177.000000  177.000000  177.000000     177.000000   \n",
       "mean     1.943503   12.993672    2.339887    2.366158      19.516949   \n",
       "std      0.773991    0.808808    1.119314    0.275080       3.336071   \n",
       "min      1.000000   11.030000    0.740000    1.360000      10.600000   \n",
       "25%      1.000000   12.360000    1.600000    2.210000      17.200000   \n",
       "50%      2.000000   13.050000    1.870000    2.360000      19.500000   \n",
       "75%      3.000000   13.670000    3.100000    2.560000      21.500000   \n",
       "max      3.000000   14.830000    5.800000    3.230000      30.000000   \n",
       "\n",
       "        MAGNESIUM  TOTALPHENOLS  FLAVONOIDS  NONFLAVONOIDSPHENOLS  \\\n",
       "count  177.000000    177.000000  177.000000            177.000000   \n",
       "mean    99.587571      2.292260    2.023446              0.362316   \n",
       "std     14.174018      0.626465    0.998658              0.124653   \n",
       "min     70.000000      0.980000    0.340000              0.130000   \n",
       "25%     88.000000      1.740000    1.200000              0.270000   \n",
       "50%     98.000000      2.350000    2.130000              0.340000   \n",
       "75%    107.000000      2.800000    2.860000              0.440000   \n",
       "max    162.000000      3.880000    5.080000              0.660000   \n",
       "\n",
       "       PRONTHOCYANINS  COLORINTENSITY         HUE  OD280_OD315      PROLINE  \n",
       "count      177.000000      177.000000  177.000000   177.000000   177.000000  \n",
       "mean         1.586949        5.054802    0.956983     2.604294   745.096045  \n",
       "std          0.571545        2.324446    0.229135     0.705103   314.884046  \n",
       "min          0.410000        1.280000    0.480000     1.270000   278.000000  \n",
       "25%          1.250000        3.210000    0.780000     1.930000   500.000000  \n",
       "50%          1.550000        4.680000    0.960000     2.780000   672.000000  \n",
       "75%          1.950000        6.200000    1.120000     3.170000   985.000000  \n",
       "max          3.580000       13.000000    1.710000     4.000000  1680.000000  "
      ]
     },
     "execution_count": 4,
     "metadata": {},
     "output_type": "execute_result"
    }
   ],
   "source": [
    "# Analisando um resumo das medidas\n",
    "df_original.describe()"
   ]
  },
  {
   "cell_type": "code",
   "execution_count": 5,
   "id": "59b112ad",
   "metadata": {},
   "outputs": [
    {
     "data": {
      "image/png": "[encoded data removed]",
      "text/plain": [
       "<Figure size 1600x600 with 1 Axes>"
      ]
     },
     "metadata": {},
     "output_type": "display_data"
    }
   ],
   "source": [
    "# Gerando um BoxPlot de todas variaveis\n",
    "plt.figure(figsize=(16,6))\n",
    "ax = sns.boxplot(data = df_original)"
   ]
  },
  {
   "cell_type": "code",
   "execution_count": 6,
   "id": "56f43bc5",
   "metadata": {},
   "outputs": [],
   "source": [
    "# Criando um objeto para PADRONIZAÇÃO dos dados\n",
    "obj_padronizacao = StandardScaler().fit(df_original)"
   ]
  },
  {
   "cell_type": "code",
   "execution_count": 7,
   "id": "586b8cf6",
   "metadata": {},
   "outputs": [],
   "source": [
    "# Aplicando a PADRONIZAÇÃO\n",
    "df_padronizado = obj_padronizacao.transform(df_original)"
   ]
  },
  {
   "cell_type": "code",
   "execution_count": 8,
   "id": "5573b982",
   "metadata": {},
   "outputs": [
    {
     "data": {
      "text/plain": [
       "array([[-1.22246766,  0.2558245 , -0.50162433, ...,  0.40709978,\n",
       "         1.13169801,  0.97105248],\n",
       "       [-1.22246766,  0.20622873,  0.01802001, ...,  0.3195674 ,\n",
       "         0.80457911,  1.40099798],\n",
       "       [-1.22246766,  1.70650069, -0.34931478, ..., -0.4244579 ,\n",
       "         1.20281081,  2.34050852],\n",
       "       ...,\n",
       "       [ 1.36887097,  0.34261709,  1.73822194, ..., -1.60614514,\n",
       "        -1.48525319,  0.28632445],\n",
       "       [ 1.36887097,  0.21862767,  0.22408586, ..., -1.56237895,\n",
       "        -1.39991783,  0.30224836],\n",
       "       [ 1.36887097,  1.40892609,  1.57695301, ..., -1.51861275,\n",
       "        -1.42836295, -0.58949046]])"
      ]
     },
     "execution_count": 8,
     "metadata": {},
     "output_type": "execute_result"
    }
   ],
   "source": [
    "# Observe que é criado um ARRAY dos dados\n",
    "df_padronizado"
   ]
  },
  {
   "cell_type": "code",
   "execution_count": 9,
   "id": "dc7db6e9",
   "metadata": {},
   "outputs": [
    {
     "data": {
      "text/html": [
       "<div>\n",
       "<style scoped>\n",
       "    .dataframe tbody tr th:only-of-type {\n",
       "        vertical-align: middle;\n",
       "    }\n",
       "\n",
       "    .dataframe tbody tr th {\n",
       "        vertical-align: top;\n",
       "    }\n",
       "\n",
       "    .dataframe thead th {\n",
       "        text-align: right;\n",
       "    }\n",
       "</style>\n",
       "<table border=\"1\" class=\"dataframe\">\n",
       "  <thead>\n",
       "    <tr style=\"text-align: right;\">\n",
       "      <th></th>\n",
       "      <th>CLASS</th>\n",
       "      <th>ALCOHOL</th>\n",
       "      <th>MALICACID</th>\n",
       "      <th>ASH</th>\n",
       "      <th>ASHALCALINITY</th>\n",
       "      <th>MAGNESIUM</th>\n",
       "      <th>TOTALPHENOLS</th>\n",
       "      <th>FLAVONOIDS</th>\n",
       "      <th>NONFLAVONOIDSPHENOLS</th>\n",
       "      <th>PRONTHOCYANINS</th>\n",
       "      <th>COLORINTENSITY</th>\n",
       "      <th>HUE</th>\n",
       "      <th>OD280_OD315</th>\n",
       "      <th>PROLINE</th>\n",
       "    </tr>\n",
       "  </thead>\n",
       "  <tbody>\n",
       "    <tr>\n",
       "      <th>0</th>\n",
       "      <td>-1.222468</td>\n",
       "      <td>0.255824</td>\n",
       "      <td>-0.501624</td>\n",
       "      <td>-0.824485</td>\n",
       "      <td>-2.500110</td>\n",
       "      <td>0.029180</td>\n",
       "      <td>0.572666</td>\n",
       "      <td>0.739636</td>\n",
       "      <td>-0.823139</td>\n",
       "      <td>-0.538575</td>\n",
       "      <td>-0.291130</td>\n",
       "      <td>0.407100</td>\n",
       "      <td>1.131698</td>\n",
       "      <td>0.971052</td>\n",
       "    </tr>\n",
       "    <tr>\n",
       "      <th>1</th>\n",
       "      <td>-1.222468</td>\n",
       "      <td>0.206229</td>\n",
       "      <td>0.018020</td>\n",
       "      <td>1.107690</td>\n",
       "      <td>-0.275639</td>\n",
       "      <td>0.099932</td>\n",
       "      <td>0.812784</td>\n",
       "      <td>1.221645</td>\n",
       "      <td>-0.501337</td>\n",
       "      <td>2.145975</td>\n",
       "      <td>0.269729</td>\n",
       "      <td>0.319567</td>\n",
       "      <td>0.804579</td>\n",
       "      <td>1.400998</td>\n",
       "    </tr>\n",
       "    <tr>\n",
       "      <th>2</th>\n",
       "      <td>-1.222468</td>\n",
       "      <td>1.706501</td>\n",
       "      <td>-0.349315</td>\n",
       "      <td>0.487935</td>\n",
       "      <td>-0.816726</td>\n",
       "      <td>0.948953</td>\n",
       "      <td>2.493609</td>\n",
       "      <td>1.472691</td>\n",
       "      <td>-0.984039</td>\n",
       "      <td>1.040572</td>\n",
       "      <td>1.184362</td>\n",
       "      <td>-0.424458</td>\n",
       "      <td>1.202811</td>\n",
       "      <td>2.340509</td>\n",
       "    </tr>\n",
       "    <tr>\n",
       "      <th>3</th>\n",
       "      <td>-1.222468</td>\n",
       "      <td>0.305420</td>\n",
       "      <td>0.224086</td>\n",
       "      <td>1.836812</td>\n",
       "      <td>0.445811</td>\n",
       "      <td>1.302712</td>\n",
       "      <td>0.812784</td>\n",
       "      <td>0.669343</td>\n",
       "      <td>0.222716</td>\n",
       "      <td>0.408913</td>\n",
       "      <td>-0.317016</td>\n",
       "      <td>0.363334</td>\n",
       "      <td>0.463238</td>\n",
       "      <td>-0.032154</td>\n",
       "    </tr>\n",
       "    <tr>\n",
       "      <th>4</th>\n",
       "      <td>-1.222468</td>\n",
       "      <td>1.495719</td>\n",
       "      <td>-0.519543</td>\n",
       "      <td>0.305655</td>\n",
       "      <td>-1.297693</td>\n",
       "      <td>0.878201</td>\n",
       "      <td>1.565153</td>\n",
       "      <td>1.372273</td>\n",
       "      <td>-0.179536</td>\n",
       "      <td>0.672104</td>\n",
       "      <td>0.731360</td>\n",
       "      <td>0.407100</td>\n",
       "      <td>0.349457</td>\n",
       "      <td>2.244965</td>\n",
       "    </tr>\n",
       "  </tbody>\n",
       "</table>\n",
       "</div>"
      ],
      "text/plain": [
       "      CLASS   ALCOHOL  MALICACID       ASH  ASHALCALINITY  MAGNESIUM  \\\n",
       "0 -1.222468  0.255824  -0.501624 -0.824485      -2.500110   0.029180   \n",
       "1 -1.222468  0.206229   0.018020  1.107690      -0.275639   0.099932   \n",
       "2 -1.222468  1.706501  -0.349315  0.487935      -0.816726   0.948953   \n",
       "3 -1.222468  0.305420   0.224086  1.836812       0.445811   1.302712   \n",
       "4 -1.222468  1.495719  -0.519543  0.305655      -1.297693   0.878201   \n",
       "\n",
       "   TOTALPHENOLS  FLAVONOIDS  NONFLAVONOIDSPHENOLS  PRONTHOCYANINS  \\\n",
       "0      0.572666    0.739636             -0.823139       -0.538575   \n",
       "1      0.812784    1.221645             -0.501337        2.145975   \n",
       "2      2.493609    1.472691             -0.984039        1.040572   \n",
       "3      0.812784    0.669343              0.222716        0.408913   \n",
       "4      1.565153    1.372273             -0.179536        0.672104   \n",
       "\n",
       "   COLORINTENSITY       HUE  OD280_OD315   PROLINE  \n",
       "0       -0.291130  0.407100     1.131698  0.971052  \n",
       "1        0.269729  0.319567     0.804579  1.400998  \n",
       "2        1.184362 -0.424458     1.202811  2.340509  \n",
       "3       -0.317016  0.363334     0.463238 -0.032154  \n",
       "4        0.731360  0.407100     0.349457  2.244965  "
      ]
     },
     "execution_count": 9,
     "metadata": {},
     "output_type": "execute_result"
    }
   ],
   "source": [
    "# Transformando para DataFrame e nomeando as colunas\n",
    "df_padronizado = pd.DataFrame(df_padronizado)\n",
    "df_padronizado.columns = ['CLASS','ALCOHOL','MALICACID','ASH','ASHALCALINITY','MAGNESIUM','TOTALPHENOLS','FLAVONOIDS',\n",
    "                      'NONFLAVONOIDSPHENOLS','PRONTHOCYANINS','COLORINTENSITY','HUE','OD280_OD315','PROLINE']\n",
    "\n",
    "# Visualizando os dados padronizados\n",
    "df_padronizado.head()"
   ]
  },
  {
   "cell_type": "code",
   "execution_count": 10,
   "id": "65949e2b",
   "metadata": {},
   "outputs": [
    {
     "data": {
      "text/html": [
       "<div>\n",
       "<style scoped>\n",
       "    .dataframe tbody tr th:only-of-type {\n",
       "        vertical-align: middle;\n",
       "    }\n",
       "\n",
       "    .dataframe tbody tr th {\n",
       "        vertical-align: top;\n",
       "    }\n",
       "\n",
       "    .dataframe thead th {\n",
       "        text-align: right;\n",
       "    }\n",
       "</style>\n",
       "<table border=\"1\" class=\"dataframe\">\n",
       "  <thead>\n",
       "    <tr style=\"text-align: right;\">\n",
       "      <th></th>\n",
       "      <th>CLASS</th>\n",
       "      <th>ALCOHOL</th>\n",
       "      <th>MALICACID</th>\n",
       "      <th>ASH</th>\n",
       "      <th>ASHALCALINITY</th>\n",
       "      <th>MAGNESIUM</th>\n",
       "      <th>TOTALPHENOLS</th>\n",
       "      <th>FLAVONOIDS</th>\n",
       "      <th>NONFLAVONOIDSPHENOLS</th>\n",
       "      <th>PRONTHOCYANINS</th>\n",
       "      <th>COLORINTENSITY</th>\n",
       "      <th>HUE</th>\n",
       "      <th>OD280_OD315</th>\n",
       "      <th>PROLINE</th>\n",
       "    </tr>\n",
       "  </thead>\n",
       "  <tbody>\n",
       "    <tr>\n",
       "      <th>count</th>\n",
       "      <td>1.770000e+02</td>\n",
       "      <td>1.770000e+02</td>\n",
       "      <td>1.770000e+02</td>\n",
       "      <td>1.770000e+02</td>\n",
       "      <td>1.770000e+02</td>\n",
       "      <td>1.770000e+02</td>\n",
       "      <td>1.770000e+02</td>\n",
       "      <td>1.770000e+02</td>\n",
       "      <td>1.770000e+02</td>\n",
       "      <td>1.770000e+02</td>\n",
       "      <td>1.770000e+02</td>\n",
       "      <td>1.770000e+02</td>\n",
       "      <td>1.770000e+02</td>\n",
       "      <td>1.770000e+02</td>\n",
       "    </tr>\n",
       "    <tr>\n",
       "      <th>mean</th>\n",
       "      <td>1.327250e-15</td>\n",
       "      <td>-2.609338e-16</td>\n",
       "      <td>4.252719e-16</td>\n",
       "      <td>-4.378168e-16</td>\n",
       "      <td>-6.410440e-16</td>\n",
       "      <td>-1.028681e-16</td>\n",
       "      <td>-1.279579e-16</td>\n",
       "      <td>1.505387e-16</td>\n",
       "      <td>-5.595022e-16</td>\n",
       "      <td>5.645202e-17</td>\n",
       "      <td>1.568112e-16</td>\n",
       "      <td>6.310081e-16</td>\n",
       "      <td>6.335171e-16</td>\n",
       "      <td>2.389802e-16</td>\n",
       "    </tr>\n",
       "    <tr>\n",
       "      <th>std</th>\n",
       "      <td>1.002837e+00</td>\n",
       "      <td>1.002837e+00</td>\n",
       "      <td>1.002837e+00</td>\n",
       "      <td>1.002837e+00</td>\n",
       "      <td>1.002837e+00</td>\n",
       "      <td>1.002837e+00</td>\n",
       "      <td>1.002837e+00</td>\n",
       "      <td>1.002837e+00</td>\n",
       "      <td>1.002837e+00</td>\n",
       "      <td>1.002837e+00</td>\n",
       "      <td>1.002837e+00</td>\n",
       "      <td>1.002837e+00</td>\n",
       "      <td>1.002837e+00</td>\n",
       "      <td>1.002837e+00</td>\n",
       "    </tr>\n",
       "    <tr>\n",
       "      <th>min</th>\n",
       "      <td>-1.222468e+00</td>\n",
       "      <td>-2.434746e+00</td>\n",
       "      <td>-1.433400e+00</td>\n",
       "      <td>-3.668064e+00</td>\n",
       "      <td>-2.680472e+00</td>\n",
       "      <td>-2.093373e+00</td>\n",
       "      <td>-2.100648e+00</td>\n",
       "      <td>-1.690491e+00</td>\n",
       "      <td>-1.868993e+00</td>\n",
       "      <td>-2.065084e+00</td>\n",
       "      <td>-1.628565e+00</td>\n",
       "      <td>-2.087573e+00</td>\n",
       "      <td>-1.897707e+00</td>\n",
       "      <td>-1.487599e+00</td>\n",
       "    </tr>\n",
       "    <tr>\n",
       "      <th>25%</th>\n",
       "      <td>-1.222468e+00</td>\n",
       "      <td>-7.856866e-01</td>\n",
       "      <td>-6.628933e-01</td>\n",
       "      <td>-5.692924e-01</td>\n",
       "      <td>-6.964846e-01</td>\n",
       "      <td>-8.198411e-01</td>\n",
       "      <td>-8.840502e-01</td>\n",
       "      <td>-8.268924e-01</td>\n",
       "      <td>-7.426883e-01</td>\n",
       "      <td>-5.912136e-01</td>\n",
       "      <td>-7.959038e-01</td>\n",
       "      <td>-7.745875e-01</td>\n",
       "      <td>-9.590184e-01</td>\n",
       "      <td>-7.805774e-01</td>\n",
       "    </tr>\n",
       "    <tr>\n",
       "      <th>50%</th>\n",
       "      <td>7.320166e-02</td>\n",
       "      <td>6.984037e-02</td>\n",
       "      <td>-4.209899e-01</td>\n",
       "      <td>-2.245039e-02</td>\n",
       "      <td>-5.094986e-03</td>\n",
       "      <td>-1.123234e-01</td>\n",
       "      <td>9.242960e-02</td>\n",
       "      <td>1.069996e-01</td>\n",
       "      <td>-1.795360e-01</td>\n",
       "      <td>-6.483128e-02</td>\n",
       "      <td>-1.617011e-01</td>\n",
       "      <td>1.320404e-02</td>\n",
       "      <td>2.498992e-01</td>\n",
       "      <td>-2.327949e-01</td>\n",
       "    </tr>\n",
       "    <tr>\n",
       "      <th>75%</th>\n",
       "      <td>1.368871e+00</td>\n",
       "      <td>8.385748e-01</td>\n",
       "      <td>6.810145e-01</td>\n",
       "      <td>7.066723e-01</td>\n",
       "      <td>5.961134e-01</td>\n",
       "      <td>5.244425e-01</td>\n",
       "      <td>8.127835e-01</td>\n",
       "      <td>8.400546e-01</td>\n",
       "      <td>6.249672e-01</td>\n",
       "      <td>6.370119e-01</td>\n",
       "      <td>4.940731e-01</td>\n",
       "      <td>7.134631e-01</td>\n",
       "      <td>8.045791e-01</td>\n",
       "      <td>7.640417e-01</td>\n",
       "    </tr>\n",
       "    <tr>\n",
       "      <th>max</th>\n",
       "      <td>1.368871e+00</td>\n",
       "      <td>2.276852e+00</td>\n",
       "      <td>3.100048e+00</td>\n",
       "      <td>3.149233e+00</td>\n",
       "      <td>3.151249e+00</td>\n",
       "      <td>4.415790e+00</td>\n",
       "      <td>2.541633e+00</td>\n",
       "      <td>3.069345e+00</td>\n",
       "      <td>2.394874e+00</td>\n",
       "      <td>3.497023e+00</td>\n",
       "      <td>3.427800e+00</td>\n",
       "      <td>3.295669e+00</td>\n",
       "      <td>1.985052e+00</td>\n",
       "      <td>2.977465e+00</td>\n",
       "    </tr>\n",
       "  </tbody>\n",
       "</table>\n",
       "</div>"
      ],
      "text/plain": [
       "              CLASS       ALCOHOL     MALICACID           ASH  ASHALCALINITY  \\\n",
       "count  1.770000e+02  1.770000e+02  1.770000e+02  1.770000e+02   1.770000e+02   \n",
       "mean   1.327250e-15 -2.609338e-16  4.252719e-16 -4.378168e-16  -6.410440e-16   \n",
       "std    1.002837e+00  1.002837e+00  1.002837e+00  1.002837e+00   1.002837e+00   \n",
       "min   -1.222468e+00 -2.434746e+00 -1.433400e+00 -3.668064e+00  -2.680472e+00   \n",
       "25%   -1.222468e+00 -7.856866e-01 -6.628933e-01 -5.692924e-01  -6.964846e-01   \n",
       "50%    7.320166e-02  6.984037e-02 -4.209899e-01 -2.245039e-02  -5.094986e-03   \n",
       "75%    1.368871e+00  8.385748e-01  6.810145e-01  7.066723e-01   5.961134e-01   \n",
       "max    1.368871e+00  2.276852e+00  3.100048e+00  3.149233e+00   3.151249e+00   \n",
       "\n",
       "          MAGNESIUM  TOTALPHENOLS    FLAVONOIDS  NONFLAVONOIDSPHENOLS  \\\n",
       "count  1.770000e+02  1.770000e+02  1.770000e+02          1.770000e+02   \n",
       "mean  -1.028681e-16 -1.279579e-16  1.505387e-16         -5.595022e-16   \n",
       "std    1.002837e+00  1.002837e+00  1.002837e+00          1.002837e+00   \n",
       "min   -2.093373e+00 -2.100648e+00 -1.690491e+00         -1.868993e+00   \n",
       "25%   -8.198411e-01 -8.840502e-01 -8.268924e-01         -7.426883e-01   \n",
       "50%   -1.123234e-01  9.242960e-02  1.069996e-01         -1.795360e-01   \n",
       "75%    5.244425e-01  8.127835e-01  8.400546e-01          6.249672e-01   \n",
       "max    4.415790e+00  2.541633e+00  3.069345e+00          2.394874e+00   \n",
       "\n",
       "       PRONTHOCYANINS  COLORINTENSITY           HUE   OD280_OD315  \\\n",
       "count    1.770000e+02    1.770000e+02  1.770000e+02  1.770000e+02   \n",
       "mean     5.645202e-17    1.568112e-16  6.310081e-16  6.335171e-16   \n",
       "std      1.002837e+00    1.002837e+00  1.002837e+00  1.002837e+00   \n",
       "min     -2.065084e+00   -1.628565e+00 -2.087573e+00 -1.897707e+00   \n",
       "25%     -5.912136e-01   -7.959038e-01 -7.745875e-01 -9.590184e-01   \n",
       "50%     -6.483128e-02   -1.617011e-01  1.320404e-02  2.498992e-01   \n",
       "75%      6.370119e-01    4.940731e-01  7.134631e-01  8.045791e-01   \n",
       "max      3.497023e+00    3.427800e+00  3.295669e+00  1.985052e+00   \n",
       "\n",
       "            PROLINE  \n",
       "count  1.770000e+02  \n",
       "mean   2.389802e-16  \n",
       "std    1.002837e+00  \n",
       "min   -1.487599e+00  \n",
       "25%   -7.805774e-01  \n",
       "50%   -2.327949e-01  \n",
       "75%    7.640417e-01  \n",
       "max    2.977465e+00  "
      ]
     },
     "execution_count": 10,
     "metadata": {},
     "output_type": "execute_result"
    }
   ],
   "source": [
    "# Visualizando as medidas dos dados PADRONIZADOS\n",
    "df_padronizado.describe()"
   ]
  },
  {
   "cell_type": "code",
   "execution_count": 11,
   "id": "d3233e7a",
   "metadata": {},
   "outputs": [
    {
     "data": {
      "image/png": "[encoded data removed]",
      "text/plain": [
       "<Figure size 1600x600 with 1 Axes>"
      ]
     },
     "metadata": {},
     "output_type": "display_data"
    }
   ],
   "source": [
    "# Gerando os BoxPlot dos dados Padronizados\n",
    "plt.figure(figsize=(16,6))\n",
    "ax = sns.boxplot(data = df_padronizado)"
   ]
  },
  {
   "cell_type": "code",
   "execution_count": null,
   "id": "ec8b1804",
   "metadata": {},
   "outputs": [],
   "source": []
  },
  {
   "cell_type": "code",
   "execution_count": 12,
   "id": "1d87186a",
   "metadata": {},
   "outputs": [
    {
     "data": {
      "text/html": [
       "<div>\n",
       "<style scoped>\n",
       "    .dataframe tbody tr th:only-of-type {\n",
       "        vertical-align: middle;\n",
       "    }\n",
       "\n",
       "    .dataframe tbody tr th {\n",
       "        vertical-align: top;\n",
       "    }\n",
       "\n",
       "    .dataframe thead th {\n",
       "        text-align: right;\n",
       "    }\n",
       "</style>\n",
       "<table border=\"1\" class=\"dataframe\">\n",
       "  <thead>\n",
       "    <tr style=\"text-align: right;\">\n",
       "      <th></th>\n",
       "      <th>CLASS</th>\n",
       "      <th>ALCOHOL</th>\n",
       "      <th>MALICACID</th>\n",
       "      <th>ASH</th>\n",
       "      <th>ASHALCALINITY</th>\n",
       "      <th>MAGNESIUM</th>\n",
       "      <th>TOTALPHENOLS</th>\n",
       "      <th>FLAVONOIDS</th>\n",
       "      <th>NONFLAVONOIDSPHENOLS</th>\n",
       "      <th>PRONTHOCYANINS</th>\n",
       "      <th>COLORINTENSITY</th>\n",
       "      <th>HUE</th>\n",
       "      <th>OD280_OD315</th>\n",
       "      <th>PROLINE</th>\n",
       "    </tr>\n",
       "  </thead>\n",
       "  <tbody>\n",
       "    <tr>\n",
       "      <th>0</th>\n",
       "      <td>1</td>\n",
       "      <td>13.20</td>\n",
       "      <td>1.78</td>\n",
       "      <td>2.14</td>\n",
       "      <td>11.2</td>\n",
       "      <td>100</td>\n",
       "      <td>2.65</td>\n",
       "      <td>2.76</td>\n",
       "      <td>0.26</td>\n",
       "      <td>1.28</td>\n",
       "      <td>4.38</td>\n",
       "      <td>1.05</td>\n",
       "      <td>3.40</td>\n",
       "      <td>1050</td>\n",
       "    </tr>\n",
       "    <tr>\n",
       "      <th>1</th>\n",
       "      <td>1</td>\n",
       "      <td>13.16</td>\n",
       "      <td>2.36</td>\n",
       "      <td>2.67</td>\n",
       "      <td>18.6</td>\n",
       "      <td>101</td>\n",
       "      <td>2.80</td>\n",
       "      <td>3.24</td>\n",
       "      <td>0.30</td>\n",
       "      <td>2.81</td>\n",
       "      <td>5.68</td>\n",
       "      <td>1.03</td>\n",
       "      <td>3.17</td>\n",
       "      <td>1185</td>\n",
       "    </tr>\n",
       "    <tr>\n",
       "      <th>2</th>\n",
       "      <td>1</td>\n",
       "      <td>14.37</td>\n",
       "      <td>1.95</td>\n",
       "      <td>2.50</td>\n",
       "      <td>16.8</td>\n",
       "      <td>113</td>\n",
       "      <td>3.85</td>\n",
       "      <td>3.49</td>\n",
       "      <td>0.24</td>\n",
       "      <td>2.18</td>\n",
       "      <td>7.80</td>\n",
       "      <td>0.86</td>\n",
       "      <td>3.45</td>\n",
       "      <td>1480</td>\n",
       "    </tr>\n",
       "    <tr>\n",
       "      <th>3</th>\n",
       "      <td>1</td>\n",
       "      <td>13.24</td>\n",
       "      <td>2.59</td>\n",
       "      <td>2.87</td>\n",
       "      <td>21.0</td>\n",
       "      <td>118</td>\n",
       "      <td>2.80</td>\n",
       "      <td>2.69</td>\n",
       "      <td>0.39</td>\n",
       "      <td>1.82</td>\n",
       "      <td>4.32</td>\n",
       "      <td>1.04</td>\n",
       "      <td>2.93</td>\n",
       "      <td>735</td>\n",
       "    </tr>\n",
       "    <tr>\n",
       "      <th>4</th>\n",
       "      <td>1</td>\n",
       "      <td>14.20</td>\n",
       "      <td>1.76</td>\n",
       "      <td>2.45</td>\n",
       "      <td>15.2</td>\n",
       "      <td>112</td>\n",
       "      <td>3.27</td>\n",
       "      <td>3.39</td>\n",
       "      <td>0.34</td>\n",
       "      <td>1.97</td>\n",
       "      <td>6.75</td>\n",
       "      <td>1.05</td>\n",
       "      <td>2.85</td>\n",
       "      <td>1450</td>\n",
       "    </tr>\n",
       "  </tbody>\n",
       "</table>\n",
       "</div>"
      ],
      "text/plain": [
       "   CLASS  ALCOHOL  MALICACID   ASH  ASHALCALINITY  MAGNESIUM  TOTALPHENOLS  \\\n",
       "0      1    13.20       1.78  2.14           11.2        100          2.65   \n",
       "1      1    13.16       2.36  2.67           18.6        101          2.80   \n",
       "2      1    14.37       1.95  2.50           16.8        113          3.85   \n",
       "3      1    13.24       2.59  2.87           21.0        118          2.80   \n",
       "4      1    14.20       1.76  2.45           15.2        112          3.27   \n",
       "\n",
       "   FLAVONOIDS  NONFLAVONOIDSPHENOLS  PRONTHOCYANINS  COLORINTENSITY   HUE  \\\n",
       "0        2.76                  0.26            1.28            4.38  1.05   \n",
       "1        3.24                  0.30            2.81            5.68  1.03   \n",
       "2        3.49                  0.24            2.18            7.80  0.86   \n",
       "3        2.69                  0.39            1.82            4.32  1.04   \n",
       "4        3.39                  0.34            1.97            6.75  1.05   \n",
       "\n",
       "   OD280_OD315  PROLINE  \n",
       "0         3.40     1050  \n",
       "1         3.17     1185  \n",
       "2         3.45     1480  \n",
       "3         2.93      735  \n",
       "4         2.85     1450  "
      ]
     },
     "execution_count": 12,
     "metadata": {},
     "output_type": "execute_result"
    }
   ],
   "source": [
    "# Visualizando novamente o DataFrame Original\n",
    "df_original.head()"
   ]
  },
  {
   "cell_type": "code",
   "execution_count": 13,
   "id": "ae0906d3",
   "metadata": {},
   "outputs": [],
   "source": [
    "# Criando um objeto para NORMALIZAR os dados\n",
    "obj_normalizacao = MinMaxScaler().fit(df_original)"
   ]
  },
  {
   "cell_type": "code",
   "execution_count": 14,
   "id": "be5dfad7",
   "metadata": {},
   "outputs": [],
   "source": [
    "# Aplicando a NORMALIZAÇÃO\n",
    "df_normalizado = obj_normalizacao.transform(df_original)"
   ]
  },
  {
   "cell_type": "code",
   "execution_count": 15,
   "id": "326fe337",
   "metadata": {},
   "outputs": [
    {
     "data": {
      "text/plain": [
       "array([[0.        , 0.57105263, 0.2055336 , ..., 0.46341463, 0.78021978,\n",
       "        0.55064194],\n",
       "       [0.        , 0.56052632, 0.3201581 , ..., 0.44715447, 0.6959707 ,\n",
       "        0.64693295],\n",
       "       [0.        , 0.87894737, 0.23913043, ..., 0.30894309, 0.7985348 ,\n",
       "        0.85734665],\n",
       "       ...,\n",
       "       [1.        , 0.58947368, 0.69960474, ..., 0.08943089, 0.10622711,\n",
       "        0.39728959],\n",
       "       [1.        , 0.56315789, 0.36561265, ..., 0.09756098, 0.12820513,\n",
       "        0.40085592],\n",
       "       [1.        , 0.81578947, 0.66403162, ..., 0.10569106, 0.12087912,\n",
       "        0.20114123]])"
      ]
     },
     "execution_count": 15,
     "metadata": {},
     "output_type": "execute_result"
    }
   ],
   "source": [
    "# Visualizando os dados normalizados\n",
    "df_normalizado"
   ]
  },
  {
   "cell_type": "code",
   "execution_count": 16,
   "id": "cce686f3",
   "metadata": {},
   "outputs": [
    {
     "data": {
      "text/html": [
       "<div>\n",
       "<style scoped>\n",
       "    .dataframe tbody tr th:only-of-type {\n",
       "        vertical-align: middle;\n",
       "    }\n",
       "\n",
       "    .dataframe tbody tr th {\n",
       "        vertical-align: top;\n",
       "    }\n",
       "\n",
       "    .dataframe thead th {\n",
       "        text-align: right;\n",
       "    }\n",
       "</style>\n",
       "<table border=\"1\" class=\"dataframe\">\n",
       "  <thead>\n",
       "    <tr style=\"text-align: right;\">\n",
       "      <th></th>\n",
       "      <th>CLASS</th>\n",
       "      <th>ALCOHOL</th>\n",
       "      <th>MALICACID</th>\n",
       "      <th>ASH</th>\n",
       "      <th>ASHALCALINITY</th>\n",
       "      <th>MAGNESIUM</th>\n",
       "      <th>TOTALPHENOLS</th>\n",
       "      <th>FLAVONOIDS</th>\n",
       "      <th>NONFLAVONOIDSPHENOLS</th>\n",
       "      <th>PRONTHOCYANINS</th>\n",
       "      <th>COLORINTENSITY</th>\n",
       "      <th>HUE</th>\n",
       "      <th>OD280_OD315</th>\n",
       "      <th>PROLINE</th>\n",
       "    </tr>\n",
       "  </thead>\n",
       "  <tbody>\n",
       "    <tr>\n",
       "      <th>0</th>\n",
       "      <td>0.0</td>\n",
       "      <td>0.571053</td>\n",
       "      <td>0.205534</td>\n",
       "      <td>0.417112</td>\n",
       "      <td>0.030928</td>\n",
       "      <td>0.326087</td>\n",
       "      <td>0.575862</td>\n",
       "      <td>0.510549</td>\n",
       "      <td>0.245283</td>\n",
       "      <td>0.274448</td>\n",
       "      <td>0.264505</td>\n",
       "      <td>0.463415</td>\n",
       "      <td>0.780220</td>\n",
       "      <td>0.550642</td>\n",
       "    </tr>\n",
       "    <tr>\n",
       "      <th>1</th>\n",
       "      <td>0.0</td>\n",
       "      <td>0.560526</td>\n",
       "      <td>0.320158</td>\n",
       "      <td>0.700535</td>\n",
       "      <td>0.412371</td>\n",
       "      <td>0.336957</td>\n",
       "      <td>0.627586</td>\n",
       "      <td>0.611814</td>\n",
       "      <td>0.320755</td>\n",
       "      <td>0.757098</td>\n",
       "      <td>0.375427</td>\n",
       "      <td>0.447154</td>\n",
       "      <td>0.695971</td>\n",
       "      <td>0.646933</td>\n",
       "    </tr>\n",
       "    <tr>\n",
       "      <th>2</th>\n",
       "      <td>0.0</td>\n",
       "      <td>0.878947</td>\n",
       "      <td>0.239130</td>\n",
       "      <td>0.609626</td>\n",
       "      <td>0.319588</td>\n",
       "      <td>0.467391</td>\n",
       "      <td>0.989655</td>\n",
       "      <td>0.664557</td>\n",
       "      <td>0.207547</td>\n",
       "      <td>0.558360</td>\n",
       "      <td>0.556314</td>\n",
       "      <td>0.308943</td>\n",
       "      <td>0.798535</td>\n",
       "      <td>0.857347</td>\n",
       "    </tr>\n",
       "    <tr>\n",
       "      <th>3</th>\n",
       "      <td>0.0</td>\n",
       "      <td>0.581579</td>\n",
       "      <td>0.365613</td>\n",
       "      <td>0.807487</td>\n",
       "      <td>0.536082</td>\n",
       "      <td>0.521739</td>\n",
       "      <td>0.627586</td>\n",
       "      <td>0.495781</td>\n",
       "      <td>0.490566</td>\n",
       "      <td>0.444795</td>\n",
       "      <td>0.259386</td>\n",
       "      <td>0.455285</td>\n",
       "      <td>0.608059</td>\n",
       "      <td>0.325963</td>\n",
       "    </tr>\n",
       "    <tr>\n",
       "      <th>4</th>\n",
       "      <td>0.0</td>\n",
       "      <td>0.834211</td>\n",
       "      <td>0.201581</td>\n",
       "      <td>0.582888</td>\n",
       "      <td>0.237113</td>\n",
       "      <td>0.456522</td>\n",
       "      <td>0.789655</td>\n",
       "      <td>0.643460</td>\n",
       "      <td>0.396226</td>\n",
       "      <td>0.492114</td>\n",
       "      <td>0.466724</td>\n",
       "      <td>0.463415</td>\n",
       "      <td>0.578755</td>\n",
       "      <td>0.835949</td>\n",
       "    </tr>\n",
       "  </tbody>\n",
       "</table>\n",
       "</div>"
      ],
      "text/plain": [
       "   CLASS   ALCOHOL  MALICACID       ASH  ASHALCALINITY  MAGNESIUM  \\\n",
       "0    0.0  0.571053   0.205534  0.417112       0.030928   0.326087   \n",
       "1    0.0  0.560526   0.320158  0.700535       0.412371   0.336957   \n",
       "2    0.0  0.878947   0.239130  0.609626       0.319588   0.467391   \n",
       "3    0.0  0.581579   0.365613  0.807487       0.536082   0.521739   \n",
       "4    0.0  0.834211   0.201581  0.582888       0.237113   0.456522   \n",
       "\n",
       "   TOTALPHENOLS  FLAVONOIDS  NONFLAVONOIDSPHENOLS  PRONTHOCYANINS  \\\n",
       "0      0.575862    0.510549              0.245283        0.274448   \n",
       "1      0.627586    0.611814              0.320755        0.757098   \n",
       "2      0.989655    0.664557              0.207547        0.558360   \n",
       "3      0.627586    0.495781              0.490566        0.444795   \n",
       "4      0.789655    0.643460              0.396226        0.492114   \n",
       "\n",
       "   COLORINTENSITY       HUE  OD280_OD315   PROLINE  \n",
       "0        0.264505  0.463415     0.780220  0.550642  \n",
       "1        0.375427  0.447154     0.695971  0.646933  \n",
       "2        0.556314  0.308943     0.798535  0.857347  \n",
       "3        0.259386  0.455285     0.608059  0.325963  \n",
       "4        0.466724  0.463415     0.578755  0.835949  "
      ]
     },
     "execution_count": 16,
     "metadata": {},
     "output_type": "execute_result"
    }
   ],
   "source": [
    "# Transformando para DataFrame e nomeando as colunas\n",
    "df_normalizado = pd.DataFrame(df_normalizado)\n",
    "df_normalizado.columns = ['CLASS','ALCOHOL','MALICACID','ASH','ASHALCALINITY','MAGNESIUM','TOTALPHENOLS','FLAVONOIDS',\n",
    "                      'NONFLAVONOIDSPHENOLS','PRONTHOCYANINS','COLORINTENSITY','HUE','OD280_OD315','PROLINE']\n",
    "\n",
    "\n",
    "# Visualizando os dados NORMALIZADOS\n",
    "df_normalizado.head()"
   ]
  },
  {
   "cell_type": "code",
   "execution_count": 67,
   "id": "abfdf9fb",
   "metadata": {},
   "outputs": [
    {
     "data": {
      "text/html": [
       "<div>\n",
       "<style scoped>\n",
       "    .dataframe tbody tr th:only-of-type {\n",
       "        vertical-align: middle;\n",
       "    }\n",
       "\n",
       "    .dataframe tbody tr th {\n",
       "        vertical-align: top;\n",
       "    }\n",
       "\n",
       "    .dataframe thead th {\n",
       "        text-align: right;\n",
       "    }\n",
       "</style>\n",
       "<table border=\"1\" class=\"dataframe\">\n",
       "  <thead>\n",
       "    <tr style=\"text-align: right;\">\n",
       "      <th></th>\n",
       "      <th>CLASS</th>\n",
       "      <th>ALCOHOL</th>\n",
       "      <th>MALICACID</th>\n",
       "      <th>ASH</th>\n",
       "      <th>ASHALCALINITY</th>\n",
       "      <th>MAGNESIUM</th>\n",
       "      <th>TOTALPHENOLS</th>\n",
       "      <th>FLAVONOIDS</th>\n",
       "      <th>NONFLAVONOIDSPHENOLS</th>\n",
       "      <th>PRONTHOCYANINS</th>\n",
       "      <th>COLORINTENSITY</th>\n",
       "      <th>HUE</th>\n",
       "      <th>OD280_OD315</th>\n",
       "      <th>PROLINE</th>\n",
       "    </tr>\n",
       "  </thead>\n",
       "  <tbody>\n",
       "    <tr>\n",
       "      <th>count</th>\n",
       "      <td>177.000000</td>\n",
       "      <td>177.000000</td>\n",
       "      <td>177.000000</td>\n",
       "      <td>177.000000</td>\n",
       "      <td>177.000000</td>\n",
       "      <td>177.000000</td>\n",
       "      <td>177.000000</td>\n",
       "      <td>177.000000</td>\n",
       "      <td>177.000000</td>\n",
       "      <td>177.000000</td>\n",
       "      <td>177.000000</td>\n",
       "      <td>177.000000</td>\n",
       "      <td>177.000000</td>\n",
       "      <td>177.000000</td>\n",
       "    </tr>\n",
       "    <tr>\n",
       "      <th>mean</th>\n",
       "      <td>0.471751</td>\n",
       "      <td>0.516756</td>\n",
       "      <td>0.316183</td>\n",
       "      <td>0.538053</td>\n",
       "      <td>0.459637</td>\n",
       "      <td>0.321604</td>\n",
       "      <td>0.452503</td>\n",
       "      <td>0.355157</td>\n",
       "      <td>0.438333</td>\n",
       "      <td>0.371277</td>\n",
       "      <td>0.322082</td>\n",
       "      <td>0.387791</td>\n",
       "      <td>0.488752</td>\n",
       "      <td>0.333164</td>\n",
       "    </tr>\n",
       "    <tr>\n",
       "      <th>std</th>\n",
       "      <td>0.386996</td>\n",
       "      <td>0.212844</td>\n",
       "      <td>0.221208</td>\n",
       "      <td>0.147102</td>\n",
       "      <td>0.171962</td>\n",
       "      <td>0.154065</td>\n",
       "      <td>0.216022</td>\n",
       "      <td>0.210687</td>\n",
       "      <td>0.235194</td>\n",
       "      <td>0.180298</td>\n",
       "      <td>0.198332</td>\n",
       "      <td>0.186289</td>\n",
       "      <td>0.258279</td>\n",
       "      <td>0.224596</td>\n",
       "    </tr>\n",
       "    <tr>\n",
       "      <th>min</th>\n",
       "      <td>0.000000</td>\n",
       "      <td>0.000000</td>\n",
       "      <td>0.000000</td>\n",
       "      <td>0.000000</td>\n",
       "      <td>0.000000</td>\n",
       "      <td>0.000000</td>\n",
       "      <td>0.000000</td>\n",
       "      <td>0.000000</td>\n",
       "      <td>0.000000</td>\n",
       "      <td>0.000000</td>\n",
       "      <td>0.000000</td>\n",
       "      <td>0.000000</td>\n",
       "      <td>0.000000</td>\n",
       "      <td>0.000000</td>\n",
       "    </tr>\n",
       "    <tr>\n",
       "      <th>25%</th>\n",
       "      <td>0.000000</td>\n",
       "      <td>0.350000</td>\n",
       "      <td>0.169960</td>\n",
       "      <td>0.454545</td>\n",
       "      <td>0.340206</td>\n",
       "      <td>0.195652</td>\n",
       "      <td>0.262069</td>\n",
       "      <td>0.181435</td>\n",
       "      <td>0.264151</td>\n",
       "      <td>0.264984</td>\n",
       "      <td>0.164676</td>\n",
       "      <td>0.243902</td>\n",
       "      <td>0.241758</td>\n",
       "      <td>0.158345</td>\n",
       "    </tr>\n",
       "    <tr>\n",
       "      <th>50%</th>\n",
       "      <td>0.500000</td>\n",
       "      <td>0.531579</td>\n",
       "      <td>0.223320</td>\n",
       "      <td>0.534759</td>\n",
       "      <td>0.458763</td>\n",
       "      <td>0.304348</td>\n",
       "      <td>0.472414</td>\n",
       "      <td>0.377637</td>\n",
       "      <td>0.396226</td>\n",
       "      <td>0.359621</td>\n",
       "      <td>0.290102</td>\n",
       "      <td>0.390244</td>\n",
       "      <td>0.553114</td>\n",
       "      <td>0.281027</td>\n",
       "    </tr>\n",
       "    <tr>\n",
       "      <th>75%</th>\n",
       "      <td>1.000000</td>\n",
       "      <td>0.694737</td>\n",
       "      <td>0.466403</td>\n",
       "      <td>0.641711</td>\n",
       "      <td>0.561856</td>\n",
       "      <td>0.402174</td>\n",
       "      <td>0.627586</td>\n",
       "      <td>0.531646</td>\n",
       "      <td>0.584906</td>\n",
       "      <td>0.485804</td>\n",
       "      <td>0.419795</td>\n",
       "      <td>0.520325</td>\n",
       "      <td>0.695971</td>\n",
       "      <td>0.504280</td>\n",
       "    </tr>\n",
       "    <tr>\n",
       "      <th>max</th>\n",
       "      <td>1.000000</td>\n",
       "      <td>1.000000</td>\n",
       "      <td>1.000000</td>\n",
       "      <td>1.000000</td>\n",
       "      <td>1.000000</td>\n",
       "      <td>1.000000</td>\n",
       "      <td>1.000000</td>\n",
       "      <td>1.000000</td>\n",
       "      <td>1.000000</td>\n",
       "      <td>1.000000</td>\n",
       "      <td>1.000000</td>\n",
       "      <td>1.000000</td>\n",
       "      <td>1.000000</td>\n",
       "      <td>1.000000</td>\n",
       "    </tr>\n",
       "  </tbody>\n",
       "</table>\n",
       "</div>"
      ],
      "text/plain": [
       "            CLASS     ALCOHOL   MALICACID         ASH  ASHALCALINITY  \\\n",
       "count  177.000000  177.000000  177.000000  177.000000     177.000000   \n",
       "mean     0.471751    0.516756    0.316183    0.538053       0.459637   \n",
       "std      0.386996    0.212844    0.221208    0.147102       0.171962   \n",
       "min      0.000000    0.000000    0.000000    0.000000       0.000000   \n",
       "25%      0.000000    0.350000    0.169960    0.454545       0.340206   \n",
       "50%      0.500000    0.531579    0.223320    0.534759       0.458763   \n",
       "75%      1.000000    0.694737    0.466403    0.641711       0.561856   \n",
       "max      1.000000    1.000000    1.000000    1.000000       1.000000   \n",
       "\n",
       "        MAGNESIUM  TOTALPHENOLS  FLAVONOIDS  NONFLAVONOIDSPHENOLS  \\\n",
       "count  177.000000    177.000000  177.000000            177.000000   \n",
       "mean     0.321604      0.452503    0.355157              0.438333   \n",
       "std      0.154065      0.216022    0.210687              0.235194   \n",
       "min      0.000000      0.000000    0.000000              0.000000   \n",
       "25%      0.195652      0.262069    0.181435              0.264151   \n",
       "50%      0.304348      0.472414    0.377637              0.396226   \n",
       "75%      0.402174      0.627586    0.531646              0.584906   \n",
       "max      1.000000      1.000000    1.000000              1.000000   \n",
       "\n",
       "       PRONTHOCYANINS  COLORINTENSITY         HUE  OD280_OD315     PROLINE  \n",
       "count      177.000000      177.000000  177.000000   177.000000  177.000000  \n",
       "mean         0.371277        0.322082    0.387791     0.488752    0.333164  \n",
       "std          0.180298        0.198332    0.186289     0.258279    0.224596  \n",
       "min          0.000000        0.000000    0.000000     0.000000    0.000000  \n",
       "25%          0.264984        0.164676    0.243902     0.241758    0.158345  \n",
       "50%          0.359621        0.290102    0.390244     0.553114    0.281027  \n",
       "75%          0.485804        0.419795    0.520325     0.695971    0.504280  \n",
       "max          1.000000        1.000000    1.000000     1.000000    1.000000  "
      ]
     },
     "execution_count": 67,
     "metadata": {},
     "output_type": "execute_result"
    }
   ],
   "source": [
    "# Visualizando as medidas dos dados normalizados\n",
    "df_normalizado.describe()"
   ]
  },
  {
   "cell_type": "code",
   "execution_count": 68,
   "id": "4dc9a627",
   "metadata": {},
   "outputs": [
    {
     "data": {
      "image/png": "[encoded data removed]",
      "text/plain": [
       "<Figure size 1600x600 with 1 Axes>"
      ]
     },
     "metadata": {},
     "output_type": "display_data"
    }
   ],
   "source": [
    "#from matplotlib import pyplot as plt\n",
    "plt.figure(figsize=(16,6))\n",
    "ax = sns.boxplot(data = df_normalizado)"
   ]
  },
  {
   "cell_type": "code",
   "execution_count": null,
   "id": "9e96cb92",
   "metadata": {},
   "outputs": [],
   "source": []
  },
  {
   "cell_type": "code",
   "execution_count": null,
   "id": "5e108f38",
   "metadata": {},
   "outputs": [],
   "source": []
  },
  {
   "cell_type": "markdown",
   "id": "09f22d49",
   "metadata": {},
   "source": [
    "### Algoritmo KNN "
   ]
  },
  {
   "cell_type": "code",
   "execution_count": 69,
   "id": "26604bb0",
   "metadata": {},
   "outputs": [],
   "source": [
    "# Gerando um DataFrame das variáveis preditoras originais SEM a variável TARGET\n",
    "VAR_PREDITORAS_ORIG = df_original.drop('CLASS', axis = 1)"
   ]
  },
  {
   "cell_type": "code",
   "execution_count": 70,
   "id": "5349ad4e",
   "metadata": {},
   "outputs": [],
   "source": [
    "# Gerando um DataFrame somente da variavel TARGET\n",
    "VAR_TARGET = df_original['CLASS']"
   ]
  },
  {
   "cell_type": "code",
   "execution_count": 71,
   "id": "80e2ed41",
   "metadata": {},
   "outputs": [],
   "source": [
    "# Separando os dados em TREINO e TESTE (VARIAVEIS ORIGINAIS)\n",
    "# 70% PARA TREINO E 30% PARA TESTE\n",
    "X_train, X_test, Y_train, Y_test = train_test_split(VAR_PREDITORAS_ORIG, VAR_TARGET, test_size = 0.3, random_state = 10)"
   ]
  },
  {
   "cell_type": "code",
   "execution_count": 72,
   "id": "bba90e06",
   "metadata": {},
   "outputs": [],
   "source": [
    "knn = KNeighborsClassifier()"
   ]
  },
  {
   "cell_type": "code",
   "execution_count": 73,
   "id": "87e18606",
   "metadata": {},
   "outputs": [
    {
     "data": {
      "text/plain": [
       "KNeighborsClassifier()"
      ]
     },
     "execution_count": 73,
     "metadata": {},
     "output_type": "execute_result"
    }
   ],
   "source": [
    "knn.fit(X_train, Y_train)"
   ]
  },
  {
   "cell_type": "code",
   "execution_count": 78,
   "id": "08779612",
   "metadata": {},
   "outputs": [],
   "source": [
    "import warnings\n",
    "warnings.filterwarnings(\"ignore\", category=FutureWarning, message=\".*keepdims.*\")\n",
    "resultados = knn.predict(X_test)"
   ]
  },
  {
   "cell_type": "code",
   "execution_count": 79,
   "id": "20084d49",
   "metadata": {},
   "outputs": [],
   "source": [
    "score = accuracy_score(Y_test, resultados)"
   ]
  },
  {
   "cell_type": "code",
   "execution_count": 80,
   "id": "09930bd7",
   "metadata": {},
   "outputs": [
    {
     "data": {
      "text/plain": [
       "0.6666666666666666"
      ]
     },
     "execution_count": 80,
     "metadata": {},
     "output_type": "execute_result"
    }
   ],
   "source": [
    "score"
   ]
  },
  {
   "cell_type": "code",
   "execution_count": null,
   "id": "2972edc5",
   "metadata": {},
   "outputs": [],
   "source": []
  },
  {
   "cell_type": "code",
   "execution_count": 82,
   "id": "810399a6",
   "metadata": {},
   "outputs": [],
   "source": [
    "# Gerando um DataFrame das variáveis preditoras NORMALIZADAS SEM a variável TARGET\n",
    "VAR_PREDITORAS_NORM = df_normalizado.drop('CLASS', axis = 1)"
   ]
  },
  {
   "cell_type": "code",
   "execution_count": 83,
   "id": "11697d1e",
   "metadata": {},
   "outputs": [],
   "source": [
    "# Gerando um DataFrame somente da variavel TARGET\n",
    "# Obs: A variável TARGET NÃO É NORMALIZADA E NEM PADRONIZADA\n",
    "VAR_TARGET = df_original['CLASS']"
   ]
  },
  {
   "cell_type": "code",
   "execution_count": 84,
   "id": "7f8cf190",
   "metadata": {},
   "outputs": [],
   "source": [
    "# Separando os dados em TREINO e TESTE (VARIAVEIS NORMALIZADAS)\n",
    "# 70% PARA TREINO E 30% PARA TESTE\n",
    "X_train, X_test, Y_train, Y_test = train_test_split(VAR_PREDITORAS_NORM, VAR_TARGET, test_size = 0.3, random_state = 10)"
   ]
  },
  {
   "cell_type": "code",
   "execution_count": 85,
   "id": "e4736bf5",
   "metadata": {},
   "outputs": [
    {
     "data": {
      "text/plain": [
       "KNeighborsClassifier()"
      ]
     },
     "execution_count": 85,
     "metadata": {},
     "output_type": "execute_result"
    }
   ],
   "source": [
    "knn = KNeighborsClassifier()\n",
    "knn.fit(X_train, Y_train)"
   ]
  },
  {
   "cell_type": "code",
   "execution_count": 86,
   "id": "db5cd599",
   "metadata": {},
   "outputs": [],
   "source": [
    "resultados = knn.predict(X_test)"
   ]
  },
  {
   "cell_type": "code",
   "execution_count": 87,
   "id": "d6381d97",
   "metadata": {},
   "outputs": [],
   "source": [
    "score = accuracy_score(Y_test, resultados)"
   ]
  },
  {
   "cell_type": "code",
   "execution_count": 88,
   "id": "619055b1",
   "metadata": {},
   "outputs": [
    {
     "data": {
      "text/plain": [
       "0.9074074074074074"
      ]
     },
     "execution_count": 88,
     "metadata": {},
     "output_type": "execute_result"
    }
   ],
   "source": [
    "score"
   ]
  },
  {
   "cell_type": "code",
   "execution_count": null,
   "id": "b89cf421",
   "metadata": {},
   "outputs": [],
   "source": []
  },
  {
   "cell_type": "code",
   "execution_count": null,
   "id": "d0e71657",
   "metadata": {},
   "outputs": [],
   "source": []
  },
  {
   "cell_type": "code",
   "execution_count": 89,
   "id": "2ff6fa94",
   "metadata": {},
   "outputs": [],
   "source": [
    "# Gerando um DataFrame das variáveis preditoras PADRONIZADAS SEM a variável TARGET\n",
    "VAR_PREDITORAS_PADRON = df_padronizado.drop('CLASS', axis = 1)"
   ]
  },
  {
   "cell_type": "code",
   "execution_count": 90,
   "id": "b4b503a2",
   "metadata": {},
   "outputs": [],
   "source": [
    "# Gerando um DataFrame somente da variavel TARGET\n",
    "# Obs: A variável TARGET NÃO É NORMALIZADA E NEM PADRONIZADA\n",
    "VAR_TARGET = df_original['CLASS']"
   ]
  },
  {
   "cell_type": "code",
   "execution_count": 91,
   "id": "800ff6c0",
   "metadata": {},
   "outputs": [],
   "source": [
    "# Separando os dados em TREINO e TESTE (VARIAVEIS PADRONIZADAS)\n",
    "# 70% PARA TREINO E 30% PARA TESTE\n",
    "X_train, X_test, Y_train, Y_test = train_test_split(VAR_PREDITORAS_PADRON, VAR_TARGET, test_size = 0.3, random_state = 10)"
   ]
  },
  {
   "cell_type": "code",
   "execution_count": 92,
   "id": "1a80805e",
   "metadata": {},
   "outputs": [
    {
     "data": {
      "text/plain": [
       "KNeighborsClassifier()"
      ]
     },
     "execution_count": 92,
     "metadata": {},
     "output_type": "execute_result"
    }
   ],
   "source": [
    "knn = KNeighborsClassifier()\n",
    "knn.fit(X_train, Y_train)"
   ]
  },
  {
   "cell_type": "code",
   "execution_count": 93,
   "id": "66845786",
   "metadata": {},
   "outputs": [],
   "source": [
    "resultados = knn.predict(X_test)"
   ]
  },
  {
   "cell_type": "code",
   "execution_count": 94,
   "id": "7f389562",
   "metadata": {},
   "outputs": [],
   "source": [
    "score = accuracy_score(Y_test, resultados)"
   ]
  },
  {
   "cell_type": "code",
   "execution_count": 95,
   "id": "cafca3cc",
   "metadata": {},
   "outputs": [
    {
     "data": {
      "text/plain": [
       "0.9074074074074074"
      ]
     },
     "execution_count": 95,
     "metadata": {},
     "output_type": "execute_result"
    }
   ],
   "source": [
    "score"
   ]
  },
  {
   "cell_type": "code",
   "execution_count": null,
   "id": "c7e1e7b9",
   "metadata": {},
   "outputs": [],
   "source": []
  },
  {
   "cell_type": "code",
   "execution_count": null,
   "id": "2ecc4999",
   "metadata": {},
   "outputs": [],
   "source": []
  },
  {
   "cell_type": "markdown",
   "id": "ce2e515a",
   "metadata": {},
   "source": [
    "### Algoritmo SVM"
   ]
  },
  {
   "cell_type": "code",
   "execution_count": 96,
   "id": "223b6c87",
   "metadata": {},
   "outputs": [],
   "source": [
    "VAR_PREDITORAS_ORIG = df_original.drop('CLASS', axis = 1)"
   ]
  },
  {
   "cell_type": "code",
   "execution_count": 97,
   "id": "633fd6e4",
   "metadata": {},
   "outputs": [],
   "source": [
    "VAR_TARGET = df_original['CLASS']"
   ]
  },
  {
   "cell_type": "code",
   "execution_count": 98,
   "id": "ab00aa16",
   "metadata": {},
   "outputs": [],
   "source": [
    "X_train, X_test, Y_train, Y_test = train_test_split(VAR_PREDITORAS_ORIG, VAR_TARGET, test_size = 0.3, random_state = 10)"
   ]
  },
  {
   "cell_type": "code",
   "execution_count": 99,
   "id": "f599782d",
   "metadata": {},
   "outputs": [
    {
     "data": {
      "text/plain": [
       "SVC(kernel='linear')"
      ]
     },
     "execution_count": 99,
     "metadata": {},
     "output_type": "execute_result"
    }
   ],
   "source": [
    "svm = svm.SVC(kernel = 'linear')\n",
    "svm.fit(X_train, Y_train)"
   ]
  },
  {
   "cell_type": "code",
   "execution_count": 100,
   "id": "f8dce1ba",
   "metadata": {},
   "outputs": [],
   "source": [
    "resultados = svm.predict(X_test)"
   ]
  },
  {
   "cell_type": "code",
   "execution_count": 101,
   "id": "04a05c29",
   "metadata": {},
   "outputs": [],
   "source": [
    "score = accuracy_score(Y_test, resultados)"
   ]
  },
  {
   "cell_type": "code",
   "execution_count": 102,
   "id": "5a4f2c60",
   "metadata": {},
   "outputs": [
    {
     "data": {
      "text/plain": [
       "0.9074074074074074"
      ]
     },
     "execution_count": 102,
     "metadata": {},
     "output_type": "execute_result"
    }
   ],
   "source": [
    "score"
   ]
  },
  {
   "cell_type": "code",
   "execution_count": null,
   "id": "42934566",
   "metadata": {},
   "outputs": [],
   "source": []
  },
  {
   "cell_type": "code",
   "execution_count": null,
   "id": "f0cb3ad1",
   "metadata": {},
   "outputs": [],
   "source": []
  },
  {
   "cell_type": "code",
   "execution_count": 103,
   "id": "a87278e4",
   "metadata": {},
   "outputs": [],
   "source": [
    "VAR_PREDITORAS_NORM = df_normalizado.drop('CLASS', axis = 1)"
   ]
  },
  {
   "cell_type": "code",
   "execution_count": 104,
   "id": "da00cc90",
   "metadata": {},
   "outputs": [],
   "source": [
    "VAR_TARGET = df_original['CLASS']"
   ]
  },
  {
   "cell_type": "code",
   "execution_count": 105,
   "id": "7e9d3bf7",
   "metadata": {},
   "outputs": [],
   "source": [
    "X_train, X_test, Y_train, Y_test = train_test_split(VAR_PREDITORAS_NORM, VAR_TARGET, test_size = 0.3, random_state = 10)"
   ]
  },
  {
   "cell_type": "code",
   "execution_count": 106,
   "id": "f035a917",
   "metadata": {},
   "outputs": [
    {
     "data": {
      "text/plain": [
       "SVC(kernel='linear')"
      ]
     },
     "execution_count": 106,
     "metadata": {},
     "output_type": "execute_result"
    }
   ],
   "source": [
    "svm = svm\n",
    "svm.fit(X_train, Y_train)"
   ]
  },
  {
   "cell_type": "code",
   "execution_count": 107,
   "id": "7cb4f2b3",
   "metadata": {},
   "outputs": [],
   "source": [
    "resultados = svm.predict(X_test)"
   ]
  },
  {
   "cell_type": "code",
   "execution_count": 108,
   "id": "bf04428c",
   "metadata": {},
   "outputs": [],
   "source": [
    "score = accuracy_score(Y_test, resultados)"
   ]
  },
  {
   "cell_type": "code",
   "execution_count": 109,
   "id": "534a91a6",
   "metadata": {},
   "outputs": [
    {
     "data": {
      "text/plain": [
       "0.9259259259259259"
      ]
     },
     "execution_count": 109,
     "metadata": {},
     "output_type": "execute_result"
    }
   ],
   "source": [
    "score"
   ]
  },
  {
   "cell_type": "code",
   "execution_count": null,
   "id": "dea42384",
   "metadata": {},
   "outputs": [],
   "source": []
  },
  {
   "cell_type": "code",
   "execution_count": null,
   "id": "f7de838c",
   "metadata": {},
   "outputs": [],
   "source": []
  },
  {
   "cell_type": "code",
   "execution_count": 110,
   "id": "fc9248f0",
   "metadata": {},
   "outputs": [],
   "source": [
    "VAR_PREDITORAS_PADRON = df_padronizado.drop('CLASS', axis = 1)"
   ]
  },
  {
   "cell_type": "code",
   "execution_count": 111,
   "id": "33880778",
   "metadata": {},
   "outputs": [],
   "source": [
    "VAR_TARGET = df_original['CLASS']"
   ]
  },
  {
   "cell_type": "code",
   "execution_count": 112,
   "id": "c334e765",
   "metadata": {},
   "outputs": [],
   "source": [
    "X_train, X_test, Y_train, Y_test = train_test_split(VAR_PREDITORAS_PADRON, VAR_TARGET, test_size = 0.3, random_state = 10)"
   ]
  },
  {
   "cell_type": "code",
   "execution_count": 113,
   "id": "aeee8f04",
   "metadata": {},
   "outputs": [
    {
     "data": {
      "text/plain": [
       "SVC(kernel='linear')"
      ]
     },
     "execution_count": 113,
     "metadata": {},
     "output_type": "execute_result"
    }
   ],
   "source": [
    "svm = svm\n",
    "svm.fit(X_train, Y_train)"
   ]
  },
  {
   "cell_type": "code",
   "execution_count": 114,
   "id": "947b2aff",
   "metadata": {},
   "outputs": [],
   "source": [
    "score = accuracy_score(Y_test, resultados)"
   ]
  },
  {
   "cell_type": "code",
   "execution_count": 115,
   "id": "9f5ab553",
   "metadata": {},
   "outputs": [],
   "source": [
    "score = accuracy_score(Y_test, resultados)"
   ]
  },
  {
   "cell_type": "code",
   "execution_count": 116,
   "id": "f366060c",
   "metadata": {},
   "outputs": [
    {
     "data": {
      "text/plain": [
       "0.9259259259259259"
      ]
     },
     "execution_count": 116,
     "metadata": {},
     "output_type": "execute_result"
    }
   ],
   "source": [
    "score"
   ]
  },
  {
   "cell_type": "code",
   "execution_count": null,
   "id": "039d1e3b",
   "metadata": {},
   "outputs": [],
   "source": []
  }
 ],
 "metadata": {
  "kernelspec": {
   "display_name": "Python 3 (ipykernel)",
   "language": "python",
   "name": "python3"
  },
  "language_info": {
   "codemirror_mode": {
    "name": "ipython",
    "version": 3
   },
   "file_extension": ".py",
   "mimetype": "text/x-python",
   "name": "python",
   "nbconvert_exporter": "python",
   "pygments_lexer": "ipython3",
   "version": "3.9.13"
  }
 },
 "nbformat": 4,
 "nbformat_minor": 5
}
